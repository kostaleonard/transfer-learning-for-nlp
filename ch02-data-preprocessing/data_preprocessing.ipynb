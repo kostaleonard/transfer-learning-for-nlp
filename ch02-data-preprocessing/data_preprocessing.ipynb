{
 "cells": [
  {
   "cell_type": "markdown",
   "id": "6d90c859",
   "metadata": {},
   "source": [
    "# Data preprocessing\n",
    "\n",
    "In this notebook, we perform data preprocessing on sample datasets that we will use as case studies. The datasets are the following:\n",
    "\n",
    "* [Enron email dataset](https://www.kaggle.com/datasets/wcukierski/enron-email-dataset)\n",
    "* [Fraudulent emails dataset](https://www.kaggle.com/datasets/rtatman/fraudulent-email-corpus)\n",
    "* [IMDB movie reviews](http://ai.stanford.edu/~amaas/data/sentiment/aclImdb_v1.tar.gz)\n",
    "\n",
    "You will need to download those to the `data` directory."
   ]
  },
  {
   "cell_type": "code",
   "execution_count": null,
   "id": "bcc8aaa3",
   "metadata": {},
   "outputs": [],
   "source": [
    "import os\n",
    "import time\n",
    "import random\n",
    "import numpy as np\n",
    "import pandas as pd\n",
    "import email\n",
    "import re\n",
    "import nltk\n",
    "from nltk.corpus import stopwords\n",
    "from sklearn.linear_model import LogisticRegression\n",
    "from sklearn.metrics import accuracy_score\n",
    "from sklearn.svm import SVC"
   ]
  },
  {
   "cell_type": "markdown",
   "id": "6f12bd83",
   "metadata": {},
   "source": [
    "## Enron and fraudulent emails datasets"
   ]
  },
  {
   "cell_type": "code",
   "execution_count": null,
   "id": "dfcea15f",
   "metadata": {},
   "outputs": [],
   "source": [
    "enron_filepath = \"../data/enron-email-dataset/emails.csv\"\n",
    "# We will preserve the typo in the filename as that is how it appears on Kaggle.\n",
    "fraud_filepath = \"../data/fraudulent-email-corpus/fradulent_emails.txt\""
   ]
  },
  {
   "cell_type": "code",
   "execution_count": null,
   "id": "bff4c402",
   "metadata": {},
   "outputs": [],
   "source": [
    "emails = pd.read_csv(enron_filepath)\n",
    "emails.shape"
   ]
  },
  {
   "cell_type": "code",
   "execution_count": null,
   "id": "4023118f",
   "metadata": {},
   "outputs": [],
   "source": [
    "emails.head()"
   ]
  },
  {
   "cell_type": "code",
   "execution_count": null,
   "id": "669bdeec",
   "metadata": {},
   "outputs": [],
   "source": [
    "print(emails.loc[0][\"message\"])"
   ]
  },
  {
   "cell_type": "code",
   "execution_count": null,
   "id": "ce0a5c41",
   "metadata": {},
   "outputs": [],
   "source": [
    "def extract_messages(df):\n",
    "    messages = []\n",
    "    for item in df[\"message\"]:\n",
    "        e = email.message_from_string(item)\n",
    "        message_body = e.get_payload()\n",
    "        messages.append(message_body)\n",
    "    return messages"
   ]
  },
  {
   "cell_type": "code",
   "execution_count": null,
   "id": "216b32a1",
   "metadata": {},
   "outputs": [],
   "source": [
    "bodies = extract_messages(emails)"
   ]
  },
  {
   "cell_type": "code",
   "execution_count": null,
   "id": "389fd667",
   "metadata": {},
   "outputs": [],
   "source": [
    "bodies_df = pd.DataFrame(bodies)\n",
    "bodies_df.head()"
   ]
  },
  {
   "cell_type": "code",
   "execution_count": null,
   "id": "a84297ac",
   "metadata": {},
   "outputs": [],
   "source": [
    "with open(fraud_filepath, \"r\", encoding=\"latin1\") as infile:\n",
    "    data = infile.read()\n",
    "fraud_emails = data.split(\"From r\")\n",
    "len(fraud_emails)"
   ]
  },
  {
   "cell_type": "code",
   "execution_count": null,
   "id": "fd02ffc5",
   "metadata": {},
   "outputs": [],
   "source": [
    "fraud_bodies = extract_messages(\n",
    "    pd.DataFrame(fraud_emails, columns=[\"message\"], dtype=str)\n",
    ")\n",
    "fraud_bodies_df = pd.DataFrame(fraud_bodies[1:])\n",
    "fraud_bodies_df.head()"
   ]
  },
  {
   "cell_type": "code",
   "execution_count": null,
   "id": "101aa1d2",
   "metadata": {},
   "outputs": [],
   "source": [
    "print(fraud_bodies_df[0][0])"
   ]
  },
  {
   "cell_type": "code",
   "execution_count": null,
   "id": "d0f9141c",
   "metadata": {},
   "outputs": [],
   "source": [
    "Nsamp = 1000\n",
    "maxtokens = 50\n",
    "maxtokenlen = 20"
   ]
  },
  {
   "cell_type": "code",
   "execution_count": null,
   "id": "e651a0e5",
   "metadata": {},
   "outputs": [],
   "source": [
    "def tokenize(row):\n",
    "    if row in [None, \"\"]:\n",
    "        tokens = \"\"\n",
    "    else:\n",
    "        tokens = str(row).split(\" \")[:maxtokens]\n",
    "    return tokens"
   ]
  },
  {
   "cell_type": "code",
   "execution_count": null,
   "id": "9eb59d2e",
   "metadata": {},
   "outputs": [],
   "source": [
    "def reg_expressions(row):\n",
    "    tokens = []\n",
    "    try:\n",
    "        for token in row:\n",
    "            token = token.lower()\n",
    "            token = re.sub(r\"[\\W\\d]\", \"\", token)\n",
    "            token = token[:maxtokenlen]\n",
    "            tokens.append(token)\n",
    "    except:\n",
    "        token = \"\"\n",
    "        tokens.append(token)\n",
    "    return tokens"
   ]
  },
  {
   "cell_type": "code",
   "execution_count": null,
   "id": "224032b4",
   "metadata": {},
   "outputs": [],
   "source": [
    "nltk.download(\"stopwords\")"
   ]
  },
  {
   "cell_type": "code",
   "execution_count": null,
   "id": "086aa82f",
   "metadata": {},
   "outputs": [],
   "source": [
    "english_stopwords = stopwords.words(\"english\")"
   ]
  },
  {
   "cell_type": "code",
   "execution_count": null,
   "id": "daaceeff",
   "metadata": {},
   "outputs": [],
   "source": [
    "def stop_word_removal(row):\n",
    "    token = [token for token in row if token not in english_stopwords]\n",
    "    token = filter(None, token)\n",
    "    return token"
   ]
  },
  {
   "cell_type": "code",
   "execution_count": null,
   "id": "b7cdf9b8",
   "metadata": {},
   "outputs": [],
   "source": [
    "EnronEmails = bodies_df.iloc[:, 0].apply(tokenize)\n",
    "EnronEmails = EnronEmails.apply(stop_word_removal)\n",
    "EnronEmails = EnronEmails.apply(reg_expressions)\n",
    "EnronEmails = EnronEmails.sample(Nsamp)\n",
    "SpamEmails = fraud_bodies_df.iloc[:, 0].apply(tokenize)\n",
    "SpamEmails = SpamEmails.apply(stop_word_removal)\n",
    "SpamEmails = SpamEmails.apply(reg_expressions)\n",
    "SpamEmails = SpamEmails.sample(Nsamp)\n",
    "raw_data = pd.concat((SpamEmails, EnronEmails), axis=0).values"
   ]
  },
  {
   "cell_type": "code",
   "execution_count": null,
   "id": "c3660fc3",
   "metadata": {},
   "outputs": [],
   "source": [
    "print(raw_data.shape)\n",
    "print(raw_data[:5])"
   ]
  },
  {
   "cell_type": "code",
   "execution_count": null,
   "id": "961402c4",
   "metadata": {},
   "outputs": [],
   "source": [
    "Categories = [\"spam\", \"notspam\"]\n",
    "header = [1] * Nsamp + [0] * Nsamp"
   ]
  },
  {
   "cell_type": "code",
   "execution_count": null,
   "id": "71e52de9",
   "metadata": {},
   "outputs": [],
   "source": [
    "def assemble_bag(data):\n",
    "    used_tokens = []\n",
    "    all_tokens = []\n",
    "    for item in data:\n",
    "        for token in item:\n",
    "            if token in all_tokens:\n",
    "                if token not in used_tokens:\n",
    "                    used_tokens.append(token)\n",
    "            else:\n",
    "                all_tokens.append(token)\n",
    "    df = pd.DataFrame(0, index=np.arange(len(data)), columns=used_tokens)\n",
    "    for i, item in enumerate(data):\n",
    "        for token in item:\n",
    "            if token in used_tokens:\n",
    "                df.iloc[i][token] += 1\n",
    "    return df"
   ]
  },
  {
   "cell_type": "code",
   "execution_count": null,
   "id": "c4e6c03a",
   "metadata": {},
   "outputs": [],
   "source": [
    "EnronSpamBag = assemble_bag(raw_data)\n",
    "predictors = [column for column in EnronSpamBag.columns]\n",
    "EnronSpamBag"
   ]
  },
  {
   "cell_type": "code",
   "execution_count": null,
   "id": "fc998d1c",
   "metadata": {},
   "outputs": [],
   "source": [
    "def unison_shuffle_data(data, header):\n",
    "    p = np.random.permutation(len(header))\n",
    "    data = data[p]\n",
    "    header = np.asarray(header)[p]\n",
    "    return data, header"
   ]
  },
  {
   "cell_type": "code",
   "execution_count": null,
   "id": "5c140f5d",
   "metadata": {},
   "outputs": [],
   "source": [
    "data, header = unison_shuffle_data(EnronSpamBag.values, header)\n",
    "idx = int(0.7 * data.shape[0])\n",
    "train_x = data[:idx]\n",
    "train_y = header[:idx]\n",
    "test_x = data[idx:]\n",
    "test_y = header[idx:]"
   ]
  },
  {
   "cell_type": "code",
   "execution_count": null,
   "id": "04ffc3aa",
   "metadata": {},
   "outputs": [],
   "source": [
    "def fit(train_x, train_y):\n",
    "    model = LogisticRegression()\n",
    "    try:\n",
    "        model.fit(train_x, train_y)\n",
    "    except:\n",
    "        pass\n",
    "    return model"
   ]
  },
  {
   "cell_type": "code",
   "execution_count": null,
   "id": "5dce1121",
   "metadata": {},
   "outputs": [],
   "source": [
    "model = fit(train_x, train_y)"
   ]
  },
  {
   "cell_type": "code",
   "execution_count": null,
   "id": "fc0e1116",
   "metadata": {},
   "outputs": [],
   "source": [
    "predicted_labels = model.predict(test_x)\n",
    "acc_score = accuracy_score(test_y, predicted_labels)\n",
    "acc_score"
   ]
  },
  {
   "cell_type": "code",
   "execution_count": null,
   "id": "9416e7c4",
   "metadata": {},
   "outputs": [],
   "source": [
    "clf = SVC(C=1, gamma=\"auto\", kernel=\"linear\", probability=False)\n",
    "start_time = time.time()\n",
    "clf.fit(train_x, train_y)\n",
    "end_time = time.time()\n",
    "print(f\"Training complete in {end_time - start_time}s\")\n",
    "predicted_labels = clf.predict(test_x)\n",
    "acc_score = accuracy_score(test_y, predicted_labels)\n",
    "acc_score"
   ]
  },
  {
   "cell_type": "markdown",
   "id": "c0ec69a9",
   "metadata": {},
   "source": [
    "## IMDB movie reviews dataset"
   ]
  },
  {
   "cell_type": "code",
   "execution_count": null,
   "id": "78339623",
   "metadata": {},
   "outputs": [],
   "source": [
    "def load_data(path):\n",
    "    data, sentiments = [], []\n",
    "    for folder, sentiment in ((\"neg\", 0), (\"pos\", 1)):\n",
    "        folder = os.path.join(path, folder)\n",
    "        for name in os.listdir(folder):\n",
    "            with open(os.path.join(folder, name), \"r\") as reader:\n",
    "                text = reader.read()\n",
    "            text = tokenize(text)\n",
    "            text = stop_word_removal(text)\n",
    "            text = reg_expressions(text)\n",
    "            data.append(text)\n",
    "            sentiments.append(sentiment)\n",
    "    data_np = np.array(data)\n",
    "    data, sentiments = unison_shuffle_data(data_np, sentiments)\n",
    "    return data, sentiments"
   ]
  },
  {
   "cell_type": "code",
   "execution_count": null,
   "id": "8a9d6db4",
   "metadata": {},
   "outputs": [],
   "source": [
    "train_path = os.path.join(\"..\", \"data\", \"aclImdb\", \"train\")\n",
    "raw_data, raw_header = load_data(train_path)"
   ]
  },
  {
   "cell_type": "code",
   "execution_count": null,
   "id": "4bfabf25",
   "metadata": {},
   "outputs": [],
   "source": [
    "print(raw_data.shape)\n",
    "print(len(raw_header))"
   ]
  },
  {
   "cell_type": "code",
   "execution_count": null,
   "id": "fe9abf3e",
   "metadata": {},
   "outputs": [],
   "source": [
    "random_indices = np.random.choice(\n",
    "    range(len(raw_header)), size=(Nsamp * 2,),\n",
    "    replace=False\n",
    ")\n",
    "data_train = raw_data[random_indices]\n",
    "header = raw_header[random_indices]"
   ]
  },
  {
   "cell_type": "code",
   "execution_count": null,
   "id": "1217b0c4",
   "metadata": {},
   "outputs": [],
   "source": [
    "# Ensure roughly balanced class distribution.\n",
    "unique_elements, counts_elements = np.unique(header, return_counts=True)\n",
    "print(unique_elements)\n",
    "print(counts_elements)"
   ]
  },
  {
   "cell_type": "code",
   "execution_count": null,
   "id": "1c2207c1",
   "metadata": {},
   "outputs": [],
   "source": [
    "MixedBagOfReviews = assemble_bag(data_train)\n",
    "MixedBagOfReviews.head()"
   ]
  },
  {
   "cell_type": "code",
   "execution_count": null,
   "id": "08694138",
   "metadata": {},
   "outputs": [],
   "source": [
    "data = MixedBagOfReviews.values\n",
    "idx = int(0.7 * data.shape[0])\n",
    "train_x = data[:idx, :]\n",
    "train_y = header[:idx]\n",
    "test_x = data[idx:, :]\n",
    "test_y = header[idx:] \n",
    "print(len(train_x))\n",
    "print(train_x)\n",
    "print(train_y[:5])\n",
    "print(len(train_y))"
   ]
  },
  {
   "cell_type": "code",
   "execution_count": null,
   "id": "fe9913af",
   "metadata": {},
   "outputs": [],
   "source": [
    "model = fit(train_x, train_y)"
   ]
  },
  {
   "cell_type": "code",
   "execution_count": null,
   "id": "e8d2e853",
   "metadata": {},
   "outputs": [],
   "source": [
    "predicted_labels = model.predict(test_x)\n",
    "acc_score = accuracy_score(test_y, predicted_labels)\n",
    "acc_score"
   ]
  },
  {
   "cell_type": "code",
   "execution_count": null,
   "id": "7024aaa0",
   "metadata": {},
   "outputs": [],
   "source": [
    "clf = SVC(C=1, gamma=\"auto\", kernel=\"linear\", probability=False)\n",
    "start_time = time.time()\n",
    "clf.fit(train_x, train_y)\n",
    "end_time = time.time()\n",
    "print(f\"Training complete in {end_time - start_time}s\")\n",
    "predicted_labels = clf.predict(test_x)\n",
    "acc_score = accuracy_score(test_y, predicted_labels)\n",
    "acc_score"
   ]
  },
  {
   "cell_type": "code",
   "execution_count": null,
   "id": "452f19b0",
   "metadata": {},
   "outputs": [],
   "source": []
  }
 ],
 "metadata": {
  "kernelspec": {
   "display_name": "Python 3 (ipykernel)",
   "language": "python",
   "name": "python3"
  },
  "language_info": {
   "codemirror_mode": {
    "name": "ipython",
    "version": 3
   },
   "file_extension": ".py",
   "mimetype": "text/x-python",
   "name": "python",
   "nbconvert_exporter": "python",
   "pygments_lexer": "ipython3",
   "version": "3.9.13"
  }
 },
 "nbformat": 4,
 "nbformat_minor": 5
}
