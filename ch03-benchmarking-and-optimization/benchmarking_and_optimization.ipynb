{
 "cells": [
  {
   "cell_type": "markdown",
   "id": "3accfa44",
   "metadata": {},
   "source": [
    "# Benchmarking and optimization\n",
    "\n",
    "In this notebook, we continue baselining with the NLP problems introduced in chapter 2."
   ]
  },
  {
   "cell_type": "code",
   "execution_count": null,
   "id": "19cfefa1",
   "metadata": {},
   "outputs": [],
   "source": [
    "import os\n",
    "import time\n",
    "import random\n",
    "import numpy as np\n",
    "import pandas as pd\n",
    "import email\n",
    "import re\n",
    "import nltk\n",
    "from nltk.corpus import stopwords\n",
    "from sklearn.linear_model import LogisticRegression\n",
    "from sklearn.metrics import accuracy_score\n",
    "from sklearn.svm import SVC\n",
    "from sklearn.ensemble import RandomForestClassifier, GradientBoostingClassifier\n",
    "from sklearn import metrics\n",
    "from sklearn.model_selection import cross_val_score\n",
    "import matplotlib.pyplot as plt"
   ]
  },
  {
   "cell_type": "markdown",
   "id": "9e3f99f6",
   "metadata": {},
   "source": [
    "## Enron and fraudulent emails datasets"
   ]
  },
  {
   "cell_type": "code",
   "execution_count": null,
   "id": "ff39536a",
   "metadata": {},
   "outputs": [],
   "source": [
    "enron_filepath = \"../data/enron-email-dataset/emails.csv\"\n",
    "# We will preserve the typo in the filename as that is how it appears on Kaggle.\n",
    "fraud_filepath = \"../data/fraudulent-email-corpus/fradulent_emails.txt\""
   ]
  },
  {
   "cell_type": "code",
   "execution_count": null,
   "id": "8219a181",
   "metadata": {},
   "outputs": [],
   "source": [
    "emails = pd.read_csv(enron_filepath)\n",
    "emails.shape"
   ]
  },
  {
   "cell_type": "code",
   "execution_count": null,
   "id": "691fec55",
   "metadata": {},
   "outputs": [],
   "source": [
    "emails.head()"
   ]
  },
  {
   "cell_type": "code",
   "execution_count": null,
   "id": "175acc59",
   "metadata": {},
   "outputs": [],
   "source": [
    "def extract_messages(df):\n",
    "    messages = []\n",
    "    for item in df[\"message\"]:\n",
    "        e = email.message_from_string(item)\n",
    "        message_body = e.get_payload()\n",
    "        messages.append(message_body)\n",
    "    return messages"
   ]
  },
  {
   "cell_type": "code",
   "execution_count": null,
   "id": "dee7673a",
   "metadata": {},
   "outputs": [],
   "source": [
    "bodies = extract_messages(emails)"
   ]
  },
  {
   "cell_type": "code",
   "execution_count": null,
   "id": "0a605e93",
   "metadata": {},
   "outputs": [],
   "source": [
    "bodies_df = pd.DataFrame(bodies)\n",
    "bodies_df.head()"
   ]
  },
  {
   "cell_type": "code",
   "execution_count": null,
   "id": "04ce995f",
   "metadata": {},
   "outputs": [],
   "source": [
    "with open(fraud_filepath, \"r\", encoding=\"latin1\") as infile:\n",
    "    data = infile.read()\n",
    "fraud_emails = data.split(\"From r\")\n",
    "len(fraud_emails)"
   ]
  },
  {
   "cell_type": "code",
   "execution_count": null,
   "id": "62f2a61f",
   "metadata": {},
   "outputs": [],
   "source": [
    "fraud_bodies = extract_messages(\n",
    "    pd.DataFrame(fraud_emails, columns=[\"message\"], dtype=str)\n",
    ")\n",
    "fraud_bodies_df = pd.DataFrame(fraud_bodies[1:])\n",
    "fraud_bodies_df.head()"
   ]
  },
  {
   "cell_type": "code",
   "execution_count": null,
   "id": "d45c1415",
   "metadata": {},
   "outputs": [],
   "source": [
    "print(fraud_bodies_df[0][0])"
   ]
  },
  {
   "cell_type": "code",
   "execution_count": null,
   "id": "917bdbcc",
   "metadata": {},
   "outputs": [],
   "source": [
    "Nsamp = 1000\n",
    "maxtokens = 50\n",
    "maxtokenlen = 20"
   ]
  },
  {
   "cell_type": "code",
   "execution_count": null,
   "id": "2b2d9dfd",
   "metadata": {},
   "outputs": [],
   "source": [
    "def tokenize(row):\n",
    "    if row in [None, \"\"]:\n",
    "        tokens = \"\"\n",
    "    else:\n",
    "        tokens = str(row).split(\" \")[:maxtokens]\n",
    "    return tokens"
   ]
  },
  {
   "cell_type": "code",
   "execution_count": null,
   "id": "db8f2879",
   "metadata": {},
   "outputs": [],
   "source": [
    "def reg_expressions(row):\n",
    "    tokens = []\n",
    "    try:\n",
    "        for token in row:\n",
    "            token = token.lower()\n",
    "            token = re.sub(r\"[\\W\\d]\", \"\", token)\n",
    "            token = token[:maxtokenlen]\n",
    "            tokens.append(token)\n",
    "    except:\n",
    "        token = \"\"\n",
    "        tokens.append(token)\n",
    "    return tokens"
   ]
  },
  {
   "cell_type": "code",
   "execution_count": null,
   "id": "b9bcc565",
   "metadata": {},
   "outputs": [],
   "source": [
    "nltk.download(\"stopwords\")"
   ]
  },
  {
   "cell_type": "code",
   "execution_count": null,
   "id": "16573e2e",
   "metadata": {},
   "outputs": [],
   "source": [
    "english_stopwords = stopwords.words(\"english\")"
   ]
  },
  {
   "cell_type": "code",
   "execution_count": null,
   "id": "6e0436c0",
   "metadata": {},
   "outputs": [],
   "source": [
    "def stop_word_removal(row):\n",
    "    token = [token for token in row if token not in english_stopwords]\n",
    "    token = filter(None, token)\n",
    "    return token"
   ]
  },
  {
   "cell_type": "code",
   "execution_count": null,
   "id": "e5b72d3a",
   "metadata": {},
   "outputs": [],
   "source": [
    "EnronEmails = bodies_df.iloc[:, 0].apply(tokenize)\n",
    "EnronEmails = EnronEmails.apply(stop_word_removal)\n",
    "EnronEmails = EnronEmails.apply(reg_expressions)\n",
    "EnronEmails = EnronEmails.sample(Nsamp)\n",
    "SpamEmails = fraud_bodies_df.iloc[:, 0].apply(tokenize)\n",
    "SpamEmails = SpamEmails.apply(stop_word_removal)\n",
    "SpamEmails = SpamEmails.apply(reg_expressions)\n",
    "SpamEmails = SpamEmails.sample(Nsamp)\n",
    "raw_data = pd.concat((SpamEmails, EnronEmails), axis=0).values"
   ]
  },
  {
   "cell_type": "code",
   "execution_count": null,
   "id": "8e8073d2",
   "metadata": {},
   "outputs": [],
   "source": [
    "print(raw_data.shape)\n",
    "print(raw_data[:5])"
   ]
  },
  {
   "cell_type": "code",
   "execution_count": null,
   "id": "4646db12",
   "metadata": {},
   "outputs": [],
   "source": [
    "Categories = [\"spam\", \"notspam\"]\n",
    "header = [1] * Nsamp + [0] * Nsamp"
   ]
  },
  {
   "cell_type": "code",
   "execution_count": null,
   "id": "738e90d7",
   "metadata": {},
   "outputs": [],
   "source": [
    "def assemble_bag(data):\n",
    "    used_tokens = []\n",
    "    all_tokens = []\n",
    "    for item in data:\n",
    "        for token in item:\n",
    "            if token in all_tokens:\n",
    "                if token not in used_tokens:\n",
    "                    used_tokens.append(token)\n",
    "            else:\n",
    "                all_tokens.append(token)\n",
    "    df = pd.DataFrame(0, index=np.arange(len(data)), columns=used_tokens)\n",
    "    for i, item in enumerate(data):\n",
    "        for token in item:\n",
    "            if token in used_tokens:\n",
    "                df.iloc[i][token] += 1\n",
    "    return df"
   ]
  },
  {
   "cell_type": "code",
   "execution_count": null,
   "id": "5867ff1d",
   "metadata": {},
   "outputs": [],
   "source": [
    "EnronSpamBag = assemble_bag(raw_data)\n",
    "predictors_emails = [column for column in EnronSpamBag.columns]\n",
    "EnronSpamBag"
   ]
  },
  {
   "cell_type": "code",
   "execution_count": null,
   "id": "91432927",
   "metadata": {},
   "outputs": [],
   "source": [
    "def unison_shuffle_data(data, header):\n",
    "    p = np.random.permutation(len(header))\n",
    "    data = data[p]\n",
    "    header = np.asarray(header)[p]\n",
    "    return data, header"
   ]
  },
  {
   "cell_type": "code",
   "execution_count": null,
   "id": "b10e0d44",
   "metadata": {},
   "outputs": [],
   "source": [
    "data, header = unison_shuffle_data(EnronSpamBag.values, header)\n",
    "idx = int(0.7 * data.shape[0])\n",
    "train_x_emails = data[:idx]\n",
    "train_y_emails = header[:idx]\n",
    "test_x_emails = data[idx:]\n",
    "test_y_emails = header[idx:]"
   ]
  },
  {
   "cell_type": "code",
   "execution_count": null,
   "id": "ab1b0547",
   "metadata": {},
   "outputs": [],
   "source": [
    "clf = RandomForestClassifier(n_jobs=1, random_state=0)\n",
    "start_time = time.time()\n",
    "clf.fit(train_x_emails, train_y_emails)\n",
    "end_time = time.time()\n",
    "print(f\"Training complete in {end_time - start_time}s\")\n",
    "predicted_labels = clf.predict(test_x_emails)\n",
    "acc_score = accuracy_score(test_y_emails, predicted_labels)\n",
    "acc_score"
   ]
  },
  {
   "cell_type": "code",
   "execution_count": null,
   "id": "eb0f022a",
   "metadata": {},
   "outputs": [],
   "source": [
    "def modelfit(\n",
    "    alg,\n",
    "    train_x,\n",
    "    train_y,\n",
    "    predictors,\n",
    "    test_x,\n",
    "    performCV=True,\n",
    "    cv_folds=5\n",
    "):\n",
    "    alg.fit(train_x, train_y)\n",
    "    predictions = alg.predict(train_x)\n",
    "    predprob = alg.predict_proba(train_x)[:, 1]\n",
    "    if performCV:\n",
    "        cv_score = cross_val_score(\n",
    "            alg,\n",
    "            train_x,\n",
    "            train_y,\n",
    "            cv=cv_folds,\n",
    "            scoring=\"roc_auc\"\n",
    "        )\n",
    "    print(\"Model report\")\n",
    "    print(f\"Accuracy: {metrics.accuracy_score(train_y, predictions)}\")\n",
    "    print(f\"AUC score (train): {metrics.roc_auc_score(train_y, predprob)}\")\n",
    "    if performCV:\n",
    "        print(f\"CV score: mean: {np.mean(cv_score)} | std: {np.std(cv_score)} \"\n",
    "              f\"| min: {np.min(cv_score)} | max: {np.max(cv_score)}\")\n",
    "    feat_imp = pd.Series(\n",
    "        alg.feature_importances_,\n",
    "        predictors\n",
    "    ).sort_values(ascending=False)\n",
    "    feat_imp[:10].plot(kind=\"bar\", title=\"Feature importances\")\n",
    "    return alg.predict(test_x), alg.predict_proba(test_x)"
   ]
  },
  {
   "cell_type": "code",
   "execution_count": null,
   "id": "668c537a",
   "metadata": {},
   "outputs": [],
   "source": [
    "gbm0 = GradientBoostingClassifier(random_state=10)\n",
    "start_time = time.time()\n",
    "test_predictions, test_probs = modelfit(\n",
    "    gbm0,\n",
    "    train_x_emails,\n",
    "    train_y_emails,\n",
    "    predictors_emails,\n",
    "    test_x_emails\n",
    ")\n",
    "end_time = time.time()\n",
    "print(f\"Training complete in {end_time - start_time}s\")\n",
    "predicted_labels = test_predictions\n",
    "acc_score = accuracy_score(test_y_emails, predicted_labels)\n",
    "acc_score"
   ]
  },
  {
   "cell_type": "code",
   "execution_count": null,
   "id": "bd6295af",
   "metadata": {},
   "outputs": [],
   "source": [
    "test_probs_max = []\n",
    "for i in range(test_probs.shape[0]):\n",
    "    test_probs_max.append(test_probs[i, test_y_emails[i]])\n",
    "fpr, tpr, thresholds = metrics.roc_curve(test_y_emails, np.array(test_probs_max))\n",
    "fig, ax = plt.subplots()\n",
    "plt.plot(fpr, tpr, label=\"ROC curve\")\n",
    "plt.plot([0, 1], [0, 1], color=\"navy\", linestyle=\"--\")\n",
    "plt.xlabel(\"False Positive Rate\")\n",
    "plt.ylabel(\"True Positive Rate\")\n",
    "plt.title(\"ROC curve\")\n",
    "plt.legend(loc=\"lower right\")\n",
    "plt.show()"
   ]
  },
  {
   "cell_type": "markdown",
   "id": "5d53785e",
   "metadata": {},
   "source": [
    "## IMDB movie reviews dataset"
   ]
  },
  {
   "cell_type": "code",
   "execution_count": null,
   "id": "40ea7c59",
   "metadata": {},
   "outputs": [],
   "source": [
    "def load_data(path):\n",
    "    data, sentiments = [], []\n",
    "    for folder, sentiment in ((\"neg\", 0), (\"pos\", 1)):\n",
    "        folder = os.path.join(path, folder)\n",
    "        for name in os.listdir(folder):\n",
    "            with open(os.path.join(folder, name), \"r\") as reader:\n",
    "                text = reader.read()\n",
    "            text = tokenize(text)\n",
    "            text = stop_word_removal(text)\n",
    "            text = reg_expressions(text)\n",
    "            data.append(text)\n",
    "            sentiments.append(sentiment)\n",
    "    data_np = np.array(data)\n",
    "    data, sentiments = unison_shuffle_data(data_np, sentiments)\n",
    "    return data, sentiments"
   ]
  },
  {
   "cell_type": "code",
   "execution_count": null,
   "id": "599a7931",
   "metadata": {},
   "outputs": [],
   "source": [
    "train_path = os.path.join(\"..\", \"data\", \"aclImdb\", \"train\")\n",
    "raw_data, raw_header = load_data(train_path)"
   ]
  },
  {
   "cell_type": "code",
   "execution_count": null,
   "id": "09e342c5",
   "metadata": {},
   "outputs": [],
   "source": [
    "print(raw_data.shape)\n",
    "print(len(raw_header))"
   ]
  },
  {
   "cell_type": "code",
   "execution_count": null,
   "id": "b633164f",
   "metadata": {},
   "outputs": [],
   "source": [
    "random_indices = np.random.choice(\n",
    "    range(len(raw_header)), size=(Nsamp * 2,),\n",
    "    replace=False\n",
    ")\n",
    "data_train = raw_data[random_indices]\n",
    "header = raw_header[random_indices]"
   ]
  },
  {
   "cell_type": "code",
   "execution_count": null,
   "id": "2d1a0522",
   "metadata": {},
   "outputs": [],
   "source": [
    "# Ensure roughly balanced class distribution.\n",
    "unique_elements, counts_elements = np.unique(header, return_counts=True)\n",
    "print(unique_elements)\n",
    "print(counts_elements)"
   ]
  },
  {
   "cell_type": "code",
   "execution_count": null,
   "id": "8b648f8f",
   "metadata": {},
   "outputs": [],
   "source": [
    "MixedBagOfReviews = assemble_bag(data_train)\n",
    "predictors_imdb = [column for column in MixedBagOfReviews.columns]\n",
    "MixedBagOfReviews.head()"
   ]
  },
  {
   "cell_type": "code",
   "execution_count": null,
   "id": "9798707e",
   "metadata": {},
   "outputs": [],
   "source": [
    "data = MixedBagOfReviews.values\n",
    "idx = int(0.7 * data.shape[0])\n",
    "train_x_imdb = data[:idx, :]\n",
    "train_y_imdb = header[:idx]\n",
    "test_x_imdb = data[idx:, :]\n",
    "test_y_imdb = header[idx:] \n",
    "print(len(train_x_imdb))\n",
    "print(train_x_imdb)\n",
    "print(train_y_imdb[:5])\n",
    "print(len(train_y_imdb))"
   ]
  },
  {
   "cell_type": "code",
   "execution_count": null,
   "id": "01dd34e0",
   "metadata": {},
   "outputs": [],
   "source": [
    "clf = RandomForestClassifier(n_jobs=1, random_state=0)\n",
    "start_time = time.time()\n",
    "clf.fit(train_x_imdb, train_y_imdb)\n",
    "end_time = time.time()\n",
    "print(f\"Training complete in {end_time - start_time}s\")\n",
    "predicted_labels = clf.predict(test_x_imdb)\n",
    "acc_score = accuracy_score(test_y_imdb, predicted_labels)\n",
    "acc_score"
   ]
  },
  {
   "cell_type": "code",
   "execution_count": null,
   "id": "44ffad82",
   "metadata": {},
   "outputs": [],
   "source": [
    "gbm0 = GradientBoostingClassifier(random_state=10)\n",
    "start_time = time.time()\n",
    "test_predictions, test_probs = modelfit(\n",
    "    gbm0,\n",
    "    train_x_imdb,\n",
    "    train_y_imdb,\n",
    "    predictors_imdb,\n",
    "    test_x_imdb\n",
    ")\n",
    "end_time = time.time()\n",
    "print(f\"Training complete in {end_time - start_time}s\")\n",
    "predicted_labels = test_predictions\n",
    "acc_score = accuracy_score(test_y_imdb, predicted_labels)\n",
    "acc_score"
   ]
  },
  {
   "cell_type": "code",
   "execution_count": null,
   "id": "61398d60",
   "metadata": {},
   "outputs": [],
   "source": [
    "test_probs_max = []\n",
    "for i in range(test_probs.shape[0]):\n",
    "    test_probs_max.append(test_probs[i, test_y_imdb[i]])\n",
    "fpr, tpr, thresholds = metrics.roc_curve(test_y_imdb, np.array(test_probs_max))\n",
    "fig, ax = plt.subplots()\n",
    "plt.plot(fpr, tpr, label=\"ROC curve\")\n",
    "plt.plot([0, 1], [0, 1], color=\"navy\", linestyle=\"--\")\n",
    "plt.xlabel(\"False Positive Rate\")\n",
    "plt.ylabel(\"True Positive Rate\")\n",
    "plt.title(\"ROC curve\")\n",
    "plt.legend(loc=\"lower right\")\n",
    "plt.show()"
   ]
  },
  {
   "cell_type": "code",
   "execution_count": null,
   "id": "f026ee7f",
   "metadata": {},
   "outputs": [],
   "source": []
  }
 ],
 "metadata": {
  "kernelspec": {
   "display_name": "Python 3 (ipykernel)",
   "language": "python",
   "name": "python3"
  },
  "language_info": {
   "codemirror_mode": {
    "name": "ipython",
    "version": 3
   },
   "file_extension": ".py",
   "mimetype": "text/x-python",
   "name": "python",
   "nbconvert_exporter": "python",
   "pygments_lexer": "ipython3",
   "version": "3.9.13"
  }
 },
 "nbformat": 4,
 "nbformat_minor": 5
}
