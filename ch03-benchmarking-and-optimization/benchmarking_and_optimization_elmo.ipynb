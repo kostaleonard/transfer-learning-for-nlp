{
 "cells": [
  {
   "cell_type": "markdown",
   "id": "4cfca366",
   "metadata": {},
   "source": [
    "# Benchmarking and optimization: ELMo\n",
    "\n",
    "This notebook performs benchmarking using the ELMo model."
   ]
  },
  {
   "cell_type": "code",
   "execution_count": null,
   "id": "568eac46",
   "metadata": {},
   "outputs": [],
   "source": [
    "import tensorflow as tf\n",
    "import tensorflow_hub as hub\n",
    "from keras import backend as K\n",
    "import keras.layers as layers\n",
    "from keras.models import Model, load_model\n",
    "from keras.engine import Layer\n",
    "import numpy as np\n",
    "import pandas as pd\n",
    "import email\n",
    "import nltk\n",
    "from nltk.corpus import stopwords\n",
    "import re\n",
    "import os"
   ]
  },
  {
   "cell_type": "code",
   "execution_count": null,
   "id": "3a91df1f",
   "metadata": {},
   "outputs": [],
   "source": [
    "sess = tf.Session()\n",
    "K.set_session(sess)"
   ]
  },
  {
   "cell_type": "code",
   "execution_count": null,
   "id": "f02cfc80",
   "metadata": {},
   "outputs": [],
   "source": [
    "class ElmoEmbeddingLayer(Layer):\n",
    "    def __init__(self, **kwargs):\n",
    "        self.dimensions = 1024\n",
    "        self.trainable = True\n",
    "        super(ElmoEmbeddingLayer, self).__init__(**kwargs)\n",
    "    \n",
    "    def build(self, input_shape):\n",
    "        self.elmo = hub.Module(\n",
    "            \"https://tfhub.dev/google/elmo/2\",\n",
    "            trainable=self.trainable,\n",
    "            name=f\"{self.name}_module\"\n",
    "        )\n",
    "        self.trainable_weights += K.tf.trainable_variables(\n",
    "            scope=f\"^{self.name}_module/.*\"\n",
    "        )\n",
    "        super(ElmoEmbeddingLayer, self).build(input_shape)\n",
    "    \n",
    "    def call(self, x, mask=None):\n",
    "        result = self.elmo(\n",
    "            K.squeeze(K.cast(x, tf.string), axis=1),\n",
    "            as_dict=True,\n",
    "            signature=\"default\"\n",
    "        )[\"default\"]\n",
    "        return result\n",
    "    \n",
    "    def compute_output_shape(self, input_shape):\n",
    "        return input_shape[0], self.dimensions"
   ]
  },
  {
   "cell_type": "code",
   "execution_count": null,
   "id": "e7d04c82",
   "metadata": {},
   "outputs": [],
   "source": [
    "def convert_data(raw_data, header):\n",
    "    converted_data, labels = [], []\n",
    "    for i in range(raw_data.shape[0]):\n",
    "        out = \" \".join(raw_data[i])\n",
    "        converted_data.append(out)\n",
    "        labels.append(header[i])\n",
    "    converted_data = np.array(converted_data, dtype=object)[:, np.newaxis]\n",
    "    return converted_data, np.array(labels)"
   ]
  },
  {
   "cell_type": "code",
   "execution_count": null,
   "id": "52bfa453",
   "metadata": {},
   "outputs": [],
   "source": [
    "def build_model():\n",
    "    input_text = layers.Input(shape=(1,), dtype=\"string\")\n",
    "    embedding = ElmoEmbeddingLayer()(input_text)\n",
    "    dense = layers.Dense(256, activation=\"relu\")(embedding)\n",
    "    pred = layers.Dense(1, activation=\"sigmoid\")(dense)\n",
    "    model = Model(inputs=[input_text], outputs=pred)\n",
    "    model.compile(\n",
    "        loss=\"binary_crossentropy\",\n",
    "        optimizer=\"adam\",\n",
    "        metrics=[\"accuracy\"]\n",
    "    )\n",
    "    model.summary()\n",
    "    return model"
   ]
  },
  {
   "cell_type": "markdown",
   "id": "8abb25a5",
   "metadata": {},
   "source": [
    "## Enron and fraudulent emails datasets"
   ]
  },
  {
   "cell_type": "code",
   "execution_count": null,
   "id": "4fc48935",
   "metadata": {},
   "outputs": [],
   "source": [
    "enron_filepath = \"../data/enron-email-dataset/emails.csv\"\n",
    "# We will preserve the typo in the filename as that is how it appears on Kaggle.\n",
    "fraud_filepath = \"../data/fraudulent-email-corpus/fradulent_emails.txt\""
   ]
  },
  {
   "cell_type": "code",
   "execution_count": null,
   "id": "3997f04b",
   "metadata": {},
   "outputs": [],
   "source": [
    "emails = pd.read_csv(enron_filepath)\n",
    "emails.shape"
   ]
  },
  {
   "cell_type": "code",
   "execution_count": null,
   "id": "40f202c2",
   "metadata": {},
   "outputs": [],
   "source": [
    "emails.head()"
   ]
  },
  {
   "cell_type": "code",
   "execution_count": null,
   "id": "3f82f71f",
   "metadata": {},
   "outputs": [],
   "source": [
    "def extract_messages(df):\n",
    "    messages = []\n",
    "    for item in df[\"message\"]:\n",
    "        e = email.message_from_string(item)\n",
    "        message_body = e.get_payload()\n",
    "        messages.append(message_body)\n",
    "    return messages"
   ]
  },
  {
   "cell_type": "code",
   "execution_count": null,
   "id": "8d6a1649",
   "metadata": {},
   "outputs": [],
   "source": [
    "bodies = extract_messages(emails)"
   ]
  },
  {
   "cell_type": "code",
   "execution_count": null,
   "id": "c546380e",
   "metadata": {},
   "outputs": [],
   "source": [
    "bodies_df = pd.DataFrame(bodies)\n",
    "bodies_df.head()"
   ]
  },
  {
   "cell_type": "code",
   "execution_count": null,
   "id": "4091fea8",
   "metadata": {},
   "outputs": [],
   "source": [
    "with open(fraud_filepath, \"r\", encoding=\"latin1\") as infile:\n",
    "    data = infile.read()\n",
    "fraud_emails = data.split(\"From r\")\n",
    "len(fraud_emails)"
   ]
  },
  {
   "cell_type": "code",
   "execution_count": null,
   "id": "9791788a",
   "metadata": {},
   "outputs": [],
   "source": [
    "fraud_bodies = extract_messages(\n",
    "    pd.DataFrame(fraud_emails, columns=[\"message\"], dtype=str)\n",
    ")\n",
    "fraud_bodies_df = pd.DataFrame(fraud_bodies[1:])\n",
    "fraud_bodies_df.head()"
   ]
  },
  {
   "cell_type": "code",
   "execution_count": null,
   "id": "023df51f",
   "metadata": {},
   "outputs": [],
   "source": [
    "print(fraud_bodies_df[0][0])"
   ]
  },
  {
   "cell_type": "code",
   "execution_count": null,
   "id": "190b828e",
   "metadata": {},
   "outputs": [],
   "source": [
    "Nsamp = 1000\n",
    "maxtokens = 50\n",
    "maxtokenlen = 20"
   ]
  },
  {
   "cell_type": "code",
   "execution_count": null,
   "id": "57432bba",
   "metadata": {},
   "outputs": [],
   "source": [
    "def tokenize(row):\n",
    "    if row in [None, \"\"]:\n",
    "        tokens = \"\"\n",
    "    else:\n",
    "        tokens = str(row).split(\" \")[:maxtokens]\n",
    "    return tokens"
   ]
  },
  {
   "cell_type": "code",
   "execution_count": null,
   "id": "48f367cb",
   "metadata": {},
   "outputs": [],
   "source": [
    "def reg_expressions(row):\n",
    "    tokens = []\n",
    "    try:\n",
    "        for token in row:\n",
    "            token = token.lower()\n",
    "            token = re.sub(r\"[\\W\\d]\", \"\", token)\n",
    "            token = token[:maxtokenlen]\n",
    "            tokens.append(token)\n",
    "    except:\n",
    "        token = \"\"\n",
    "        tokens.append(token)\n",
    "    return tokens"
   ]
  },
  {
   "cell_type": "code",
   "execution_count": null,
   "id": "403c34ec",
   "metadata": {},
   "outputs": [],
   "source": [
    "nltk.download(\"stopwords\")"
   ]
  },
  {
   "cell_type": "code",
   "execution_count": null,
   "id": "76f764ba",
   "metadata": {},
   "outputs": [],
   "source": [
    "english_stopwords = stopwords.words(\"english\")"
   ]
  },
  {
   "cell_type": "code",
   "execution_count": null,
   "id": "145c10a7",
   "metadata": {},
   "outputs": [],
   "source": [
    "def stop_word_removal(row):\n",
    "    token = [token for token in row if token not in english_stopwords]\n",
    "    token = filter(None, token)\n",
    "    return token"
   ]
  },
  {
   "cell_type": "code",
   "execution_count": null,
   "id": "8c69dc7c",
   "metadata": {},
   "outputs": [],
   "source": [
    "EnronEmails = bodies_df.iloc[:, 0].apply(tokenize)\n",
    "EnronEmails = EnronEmails.apply(stop_word_removal)\n",
    "EnronEmails = EnronEmails.apply(reg_expressions)\n",
    "EnronEmails = EnronEmails.sample(Nsamp)\n",
    "SpamEmails = fraud_bodies_df.iloc[:, 0].apply(tokenize)\n",
    "SpamEmails = SpamEmails.apply(stop_word_removal)\n",
    "SpamEmails = SpamEmails.apply(reg_expressions)\n",
    "SpamEmails = SpamEmails.sample(Nsamp)\n",
    "raw_data = pd.concat((SpamEmails, EnronEmails), axis=0).values"
   ]
  },
  {
   "cell_type": "code",
   "execution_count": null,
   "id": "8531f6ef",
   "metadata": {},
   "outputs": [],
   "source": [
    "print(raw_data.shape)\n",
    "print(raw_data[:5])"
   ]
  },
  {
   "cell_type": "code",
   "execution_count": null,
   "id": "c81b98f7",
   "metadata": {},
   "outputs": [],
   "source": [
    "Categories = [\"spam\", \"notspam\"]\n",
    "header = [1] * Nsamp + [0] * Nsamp"
   ]
  },
  {
   "cell_type": "code",
   "execution_count": null,
   "id": "da655ced",
   "metadata": {},
   "outputs": [],
   "source": [
    "def unison_shuffle_data(data, header):\n",
    "    p = np.random.permutation(len(header))\n",
    "    data = data[p]\n",
    "    header = np.asarray(header)[p]\n",
    "    return data, header"
   ]
  },
  {
   "cell_type": "markdown",
   "id": "179b616a",
   "metadata": {},
   "source": [
    "### ELMo training"
   ]
  },
  {
   "cell_type": "code",
   "execution_count": null,
   "id": "0b87bebe",
   "metadata": {},
   "outputs": [],
   "source": [
    "raw_data, header = unison_shuffle_data(raw_data, header)\n",
    "idx = int(0.7 * raw_data.shape[0])\n",
    "train_x, train_y = convert_data(raw_data[:idx], header[:idx])\n",
    "test_x, test_y = convert_data(raw_data[idx:], header[idx:])"
   ]
  },
  {
   "cell_type": "code",
   "execution_count": null,
   "id": "3a453c36",
   "metadata": {},
   "outputs": [],
   "source": [
    "train_x[:5]"
   ]
  },
  {
   "cell_type": "code",
   "execution_count": null,
   "id": "9babedf4",
   "metadata": {},
   "outputs": [],
   "source": [
    "model = build_model()\n",
    "model.fit(\n",
    "    train_x,\n",
    "    train_y,\n",
    "    validation_data=(test_x, test_y),\n",
    "    epochs=5,\n",
    "    batch_size=32\n",
    ")"
   ]
  },
  {
   "cell_type": "markdown",
   "id": "2c552b3b",
   "metadata": {},
   "source": [
    "## IMDB movie reviews dataset"
   ]
  },
  {
   "cell_type": "code",
   "execution_count": null,
   "id": "8c2ab1c6",
   "metadata": {},
   "outputs": [],
   "source": [
    "def load_data(path):\n",
    "    data, sentiments = [], []\n",
    "    for folder, sentiment in ((\"neg\", 0), (\"pos\", 1)):\n",
    "        folder = os.path.join(path, folder)\n",
    "        for name in os.listdir(folder):\n",
    "            with open(os.path.join(folder, name), \"r\") as reader:\n",
    "                text = reader.read()\n",
    "            text = tokenize(text)\n",
    "            text = stop_word_removal(text)\n",
    "            text = reg_expressions(text)\n",
    "            data.append(text)\n",
    "            sentiments.append(sentiment)\n",
    "    data_np = np.array(data)\n",
    "    data, sentiments = unison_shuffle_data(data_np, sentiments)\n",
    "    return data, sentiments"
   ]
  },
  {
   "cell_type": "code",
   "execution_count": null,
   "id": "b865ef16",
   "metadata": {},
   "outputs": [],
   "source": [
    "train_path = os.path.join(\"..\", \"data\", \"aclImdb\", \"train\")\n",
    "raw_data, raw_header = load_data(train_path)"
   ]
  },
  {
   "cell_type": "code",
   "execution_count": null,
   "id": "27494b9c",
   "metadata": {},
   "outputs": [],
   "source": [
    "print(raw_data.shape)\n",
    "print(len(raw_header))"
   ]
  },
  {
   "cell_type": "code",
   "execution_count": null,
   "id": "11200d22",
   "metadata": {},
   "outputs": [],
   "source": [
    "random_indices = np.random.choice(\n",
    "    range(len(raw_header)), size=(Nsamp * 2,),\n",
    "    replace=False\n",
    ")\n",
    "raw_data = raw_data[random_indices]\n",
    "raw_header = raw_header[random_indices]"
   ]
  },
  {
   "cell_type": "code",
   "execution_count": null,
   "id": "17737f77",
   "metadata": {},
   "outputs": [],
   "source": [
    "# Ensure roughly balanced class distribution.\n",
    "unique_elements, counts_elements = np.unique(raw_header, return_counts=True)\n",
    "print(unique_elements)\n",
    "print(counts_elements)"
   ]
  },
  {
   "cell_type": "markdown",
   "id": "7620cd75",
   "metadata": {},
   "source": [
    "### ELMo training"
   ]
  },
  {
   "cell_type": "code",
   "execution_count": null,
   "id": "73aaffae",
   "metadata": {},
   "outputs": [],
   "source": [
    "raw_data, raw_header = unison_shuffle_data(raw_data, raw_header)\n",
    "idx = int(0.7 * raw_data.shape[0])\n",
    "train_x, train_y = convert_data(raw_data[:idx], raw_header[:idx])\n",
    "test_x, test_y = convert_data(raw_data[idx:], raw_header[idx:])"
   ]
  },
  {
   "cell_type": "code",
   "execution_count": null,
   "id": "cce9d0b5",
   "metadata": {},
   "outputs": [],
   "source": [
    "train_x[:5]"
   ]
  },
  {
   "cell_type": "code",
   "execution_count": null,
   "id": "060cd0d3",
   "metadata": {},
   "outputs": [],
   "source": [
    "train_y[:5]"
   ]
  },
  {
   "cell_type": "code",
   "execution_count": null,
   "id": "34d83c1d",
   "metadata": {},
   "outputs": [],
   "source": [
    "model = build_model()\n",
    "model.fit(\n",
    "    train_x,\n",
    "    train_y,\n",
    "    validation_data=(test_x, test_y),\n",
    "    epochs=5,\n",
    "    batch_size=32\n",
    ")"
   ]
  },
  {
   "cell_type": "code",
   "execution_count": null,
   "id": "b8e5f5c9",
   "metadata": {},
   "outputs": [],
   "source": []
  }
 ],
 "metadata": {
  "kernelspec": {
   "display_name": "Python 3 (ipykernel)",
   "language": "python",
   "name": "python3"
  },
  "language_info": {
   "codemirror_mode": {
    "name": "ipython",
    "version": 3
   },
   "file_extension": ".py",
   "mimetype": "text/x-python",
   "name": "python",
   "nbconvert_exporter": "python",
   "pygments_lexer": "ipython3",
   "version": "3.7.13"
  }
 },
 "nbformat": 4,
 "nbformat_minor": 5
}
